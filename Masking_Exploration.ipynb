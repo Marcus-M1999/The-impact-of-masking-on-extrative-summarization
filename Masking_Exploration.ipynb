{
  "nbformat": 4,
  "nbformat_minor": 0,
  "metadata": {
    "colab": {
      "name": "Masking Exploration.ipynb",
      "provenance": [],
      "collapsed_sections": [],
      "machine_shape": "hm"
    },
    "kernelspec": {
      "name": "python3",
      "display_name": "Python 3"
    },
    "language_info": {
      "name": "python"
    },
    "accelerator": "GPU"
  },
  "cells": [
    {
      "cell_type": "code",
      "execution_count": 1,
      "metadata": {
        "id": "ioo8qeStz9iu"
      },
      "outputs": [],
      "source": [
        "import pandas as pd\n",
        "import numpy as np\n",
        "#import transformers\n",
        "#from transformers import pipeline\n",
        "#from transformers import AutoTokenizer\n",
        "import random as r\n",
        "import spacy\n",
        "import tensorflow as tf\n",
        "import torch\n",
        "from collections import Counter\n",
        "from collections import defaultdict\n",
        "import altair as alt\n",
        "import math\n",
        "pd.set_option('display.max_columns', None)\n"
      ]
    },
    {
      "cell_type": "code",
      "source": [
        "from google.colab import drive \n",
        "drive.mount('/content/drive')"
      ],
      "metadata": {
        "colab": {
          "base_uri": "https://localhost:8080/"
        },
        "id": "A6NTLOx7350p",
        "outputId": "b262fd50-ec43-4199-a548-185119c50ad8"
      },
      "execution_count": 2,
      "outputs": [
        {
          "output_type": "stream",
          "name": "stdout",
          "text": [
            "Mounted at /content/drive\n"
          ]
        }
      ]
    },
    {
      "cell_type": "code",
      "source": [
        "cd /content/drive/MyDrive/W266-final-project"
      ],
      "metadata": {
        "colab": {
          "base_uri": "https://localhost:8080/"
        },
        "id": "ALQ0AyU336ph",
        "outputId": "fe23811e-b54e-4a34-9eed-599327fb35e8"
      },
      "execution_count": 3,
      "outputs": [
        {
          "output_type": "stream",
          "name": "stdout",
          "text": [
            "/content/drive/.shortcut-targets-by-id/1sJ6Lr7w3mgZD4tEPMBy2-elafN6GPZCY/W266-final-project\n"
          ]
        }
      ]
    },
    {
      "cell_type": "markdown",
      "source": [
        "## Find the distribution of POS in summaries"
      ],
      "metadata": {
        "id": "JXiwiI-l5u9d"
      }
    },
    {
      "cell_type": "code",
      "source": [
        "base = '/content/drive/MyDrive/W266-final-project/data/BBC News Summary/News Articles/'\n",
        "file = open(base + 'business' + '/' + '001' + '.txt')\n",
        "txt = nlp(file.read())\n",
        "print(txt)"
      ],
      "metadata": {
        "colab": {
          "base_uri": "https://localhost:8080/",
          "height": 217
        },
        "id": "cSI6mCQ64bk0",
        "outputId": "65316a69-2294-4cf6-cf8c-9adf2b33061f"
      },
      "execution_count": null,
      "outputs": [
        {
          "output_type": "error",
          "ename": "NameError",
          "evalue": "ignored",
          "traceback": [
            "\u001b[0;31m---------------------------------------------------------------------------\u001b[0m",
            "\u001b[0;31mNameError\u001b[0m                                 Traceback (most recent call last)",
            "\u001b[0;32m<ipython-input-4-82d0a29f0d84>\u001b[0m in \u001b[0;36m<module>\u001b[0;34m()\u001b[0m\n\u001b[1;32m      1\u001b[0m \u001b[0mbase\u001b[0m \u001b[0;34m=\u001b[0m \u001b[0;34m'/content/drive/MyDrive/W266-final-project/data/BBC News Summary/News Articles/'\u001b[0m\u001b[0;34m\u001b[0m\u001b[0;34m\u001b[0m\u001b[0m\n\u001b[1;32m      2\u001b[0m \u001b[0mfile\u001b[0m \u001b[0;34m=\u001b[0m \u001b[0mopen\u001b[0m\u001b[0;34m(\u001b[0m\u001b[0mbase\u001b[0m \u001b[0;34m+\u001b[0m \u001b[0;34m'business'\u001b[0m \u001b[0;34m+\u001b[0m \u001b[0;34m'/'\u001b[0m \u001b[0;34m+\u001b[0m \u001b[0;34m'001'\u001b[0m \u001b[0;34m+\u001b[0m \u001b[0;34m'.txt'\u001b[0m\u001b[0;34m)\u001b[0m\u001b[0;34m\u001b[0m\u001b[0;34m\u001b[0m\u001b[0m\n\u001b[0;32m----> 3\u001b[0;31m \u001b[0mtxt\u001b[0m \u001b[0;34m=\u001b[0m \u001b[0mnlp\u001b[0m\u001b[0;34m(\u001b[0m\u001b[0mfile\u001b[0m\u001b[0;34m.\u001b[0m\u001b[0mread\u001b[0m\u001b[0;34m(\u001b[0m\u001b[0;34m)\u001b[0m\u001b[0;34m)\u001b[0m\u001b[0;34m\u001b[0m\u001b[0;34m\u001b[0m\u001b[0m\n\u001b[0m\u001b[1;32m      4\u001b[0m \u001b[0mprint\u001b[0m\u001b[0;34m(\u001b[0m\u001b[0mtxt\u001b[0m\u001b[0;34m)\u001b[0m\u001b[0;34m\u001b[0m\u001b[0;34m\u001b[0m\u001b[0m\n",
            "\u001b[0;31mNameError\u001b[0m: name 'nlp' is not defined"
          ]
        }
      ]
    },
    {
      "cell_type": "code",
      "source": [
        "base = '/content/drive/MyDrive/W266-final-project/data/BBC News Summary/Summaries/'\n",
        "file = open(base + 'business' + '/' + '001' + '.txt')\n",
        "txt = nlp(file.read())\n",
        "print(txt)"
      ],
      "metadata": {
        "colab": {
          "base_uri": "https://localhost:8080/"
        },
        "id": "2ycaoxta6iVQ",
        "outputId": "43e03de0-473d-4aa4-8577-4a86e24905c7"
      },
      "execution_count": null,
      "outputs": [
        {
          "output_type": "stream",
          "name": "stdout",
          "text": [
            "TimeWarner said fourth quarter sales rose 2% to $11.1bn from $10.9bn.For the full-year, TimeWarner posted a profit of $3.36bn, up 27% from its 2003 performance, while revenues grew 6.4% to $42.09bn.Quarterly profits at US media giant TimeWarner jumped 76% to $1.13bn (£600m) for the three months to December, from $639m year-earlier.However, the company said AOL's underlying profit before exceptional items rose 8% on the back of stronger internet advertising revenues.Its profits were buoyed by one-off gains which offset a profit dip at Warner Bros, and less users for AOL.For 2005, TimeWarner is projecting operating earnings growth of around 5%, and also expects higher revenue and wider profit margins.It lost 464,000 subscribers in the fourth quarter profits were lower than in the preceding three quarters.Time Warner's fourth quarter profits were slightly better than analysts' expectations.\n"
          ]
        }
      ]
    },
    {
      "cell_type": "markdown",
      "source": [
        "# Create a dataframe for the summaries and news articles to be stored in.\n",
        "Note: We're generating POS for the training and test datasets since that is ~130 articles which were randomly selected. This should give us a general idea of POS distribution for summaries and articles"
      ],
      "metadata": {
        "id": "1LATikjJ6ucE"
      }
    },
    {
      "cell_type": "code",
      "source": [
        "indicies_df = pd.read_csv('/content/drive/MyDrive/W266-final-project/indicies.csv')\n",
        "indicies_df.drop(['Unnamed: 0', 'Unnamed: 0.1'], axis=1, inplace=True)\n",
        "indicies_df"
      ],
      "metadata": {
        "colab": {
          "base_uri": "https://localhost:8080/",
          "height": 424
        },
        "id": "Hm4V1zmz-oAq",
        "outputId": "6c34d204-c9df-49be-c4c7-0add900e256f"
      },
      "execution_count": 4,
      "outputs": [
        {
          "output_type": "execute_result",
          "data": {
            "text/plain": [
              "    business  entertainment  politics  sport  tech\n",
              "0        384             29       273    131   276\n",
              "1        315             97       208    110   329\n",
              "2        267            117       192    502    51\n",
              "3         25            358       186    268   160\n",
              "4        112            349       190     64    73\n",
              "..       ...            ...       ...    ...   ...\n",
              "95       123            266       350     19   246\n",
              "96       225            264       221    458   293\n",
              "97       372            246        35    419   295\n",
              "98        35            295        12    214   216\n",
              "99       500            307       370    369    84\n",
              "\n",
              "[100 rows x 5 columns]"
            ],
            "text/html": [
              "\n",
              "  <div id=\"df-28be76be-42ea-4f11-b3ac-524fd619b31b\">\n",
              "    <div class=\"colab-df-container\">\n",
              "      <div>\n",
              "<style scoped>\n",
              "    .dataframe tbody tr th:only-of-type {\n",
              "        vertical-align: middle;\n",
              "    }\n",
              "\n",
              "    .dataframe tbody tr th {\n",
              "        vertical-align: top;\n",
              "    }\n",
              "\n",
              "    .dataframe thead th {\n",
              "        text-align: right;\n",
              "    }\n",
              "</style>\n",
              "<table border=\"1\" class=\"dataframe\">\n",
              "  <thead>\n",
              "    <tr style=\"text-align: right;\">\n",
              "      <th></th>\n",
              "      <th>business</th>\n",
              "      <th>entertainment</th>\n",
              "      <th>politics</th>\n",
              "      <th>sport</th>\n",
              "      <th>tech</th>\n",
              "    </tr>\n",
              "  </thead>\n",
              "  <tbody>\n",
              "    <tr>\n",
              "      <th>0</th>\n",
              "      <td>384</td>\n",
              "      <td>29</td>\n",
              "      <td>273</td>\n",
              "      <td>131</td>\n",
              "      <td>276</td>\n",
              "    </tr>\n",
              "    <tr>\n",
              "      <th>1</th>\n",
              "      <td>315</td>\n",
              "      <td>97</td>\n",
              "      <td>208</td>\n",
              "      <td>110</td>\n",
              "      <td>329</td>\n",
              "    </tr>\n",
              "    <tr>\n",
              "      <th>2</th>\n",
              "      <td>267</td>\n",
              "      <td>117</td>\n",
              "      <td>192</td>\n",
              "      <td>502</td>\n",
              "      <td>51</td>\n",
              "    </tr>\n",
              "    <tr>\n",
              "      <th>3</th>\n",
              "      <td>25</td>\n",
              "      <td>358</td>\n",
              "      <td>186</td>\n",
              "      <td>268</td>\n",
              "      <td>160</td>\n",
              "    </tr>\n",
              "    <tr>\n",
              "      <th>4</th>\n",
              "      <td>112</td>\n",
              "      <td>349</td>\n",
              "      <td>190</td>\n",
              "      <td>64</td>\n",
              "      <td>73</td>\n",
              "    </tr>\n",
              "    <tr>\n",
              "      <th>...</th>\n",
              "      <td>...</td>\n",
              "      <td>...</td>\n",
              "      <td>...</td>\n",
              "      <td>...</td>\n",
              "      <td>...</td>\n",
              "    </tr>\n",
              "    <tr>\n",
              "      <th>95</th>\n",
              "      <td>123</td>\n",
              "      <td>266</td>\n",
              "      <td>350</td>\n",
              "      <td>19</td>\n",
              "      <td>246</td>\n",
              "    </tr>\n",
              "    <tr>\n",
              "      <th>96</th>\n",
              "      <td>225</td>\n",
              "      <td>264</td>\n",
              "      <td>221</td>\n",
              "      <td>458</td>\n",
              "      <td>293</td>\n",
              "    </tr>\n",
              "    <tr>\n",
              "      <th>97</th>\n",
              "      <td>372</td>\n",
              "      <td>246</td>\n",
              "      <td>35</td>\n",
              "      <td>419</td>\n",
              "      <td>295</td>\n",
              "    </tr>\n",
              "    <tr>\n",
              "      <th>98</th>\n",
              "      <td>35</td>\n",
              "      <td>295</td>\n",
              "      <td>12</td>\n",
              "      <td>214</td>\n",
              "      <td>216</td>\n",
              "    </tr>\n",
              "    <tr>\n",
              "      <th>99</th>\n",
              "      <td>500</td>\n",
              "      <td>307</td>\n",
              "      <td>370</td>\n",
              "      <td>369</td>\n",
              "      <td>84</td>\n",
              "    </tr>\n",
              "  </tbody>\n",
              "</table>\n",
              "<p>100 rows × 5 columns</p>\n",
              "</div>\n",
              "      <button class=\"colab-df-convert\" onclick=\"convertToInteractive('df-28be76be-42ea-4f11-b3ac-524fd619b31b')\"\n",
              "              title=\"Convert this dataframe to an interactive table.\"\n",
              "              style=\"display:none;\">\n",
              "        \n",
              "  <svg xmlns=\"http://www.w3.org/2000/svg\" height=\"24px\"viewBox=\"0 0 24 24\"\n",
              "       width=\"24px\">\n",
              "    <path d=\"M0 0h24v24H0V0z\" fill=\"none\"/>\n",
              "    <path d=\"M18.56 5.44l.94 2.06.94-2.06 2.06-.94-2.06-.94-.94-2.06-.94 2.06-2.06.94zm-11 1L8.5 8.5l.94-2.06 2.06-.94-2.06-.94L8.5 2.5l-.94 2.06-2.06.94zm10 10l.94 2.06.94-2.06 2.06-.94-2.06-.94-.94-2.06-.94 2.06-2.06.94z\"/><path d=\"M17.41 7.96l-1.37-1.37c-.4-.4-.92-.59-1.43-.59-.52 0-1.04.2-1.43.59L10.3 9.45l-7.72 7.72c-.78.78-.78 2.05 0 2.83L4 21.41c.39.39.9.59 1.41.59.51 0 1.02-.2 1.41-.59l7.78-7.78 2.81-2.81c.8-.78.8-2.07 0-2.86zM5.41 20L4 18.59l7.72-7.72 1.47 1.35L5.41 20z\"/>\n",
              "  </svg>\n",
              "      </button>\n",
              "      \n",
              "  <style>\n",
              "    .colab-df-container {\n",
              "      display:flex;\n",
              "      flex-wrap:wrap;\n",
              "      gap: 12px;\n",
              "    }\n",
              "\n",
              "    .colab-df-convert {\n",
              "      background-color: #E8F0FE;\n",
              "      border: none;\n",
              "      border-radius: 50%;\n",
              "      cursor: pointer;\n",
              "      display: none;\n",
              "      fill: #1967D2;\n",
              "      height: 32px;\n",
              "      padding: 0 0 0 0;\n",
              "      width: 32px;\n",
              "    }\n",
              "\n",
              "    .colab-df-convert:hover {\n",
              "      background-color: #E2EBFA;\n",
              "      box-shadow: 0px 1px 2px rgba(60, 64, 67, 0.3), 0px 1px 3px 1px rgba(60, 64, 67, 0.15);\n",
              "      fill: #174EA6;\n",
              "    }\n",
              "\n",
              "    [theme=dark] .colab-df-convert {\n",
              "      background-color: #3B4455;\n",
              "      fill: #D2E3FC;\n",
              "    }\n",
              "\n",
              "    [theme=dark] .colab-df-convert:hover {\n",
              "      background-color: #434B5C;\n",
              "      box-shadow: 0px 1px 3px 1px rgba(0, 0, 0, 0.15);\n",
              "      filter: drop-shadow(0px 1px 2px rgba(0, 0, 0, 0.3));\n",
              "      fill: #FFFFFF;\n",
              "    }\n",
              "  </style>\n",
              "\n",
              "      <script>\n",
              "        const buttonEl =\n",
              "          document.querySelector('#df-28be76be-42ea-4f11-b3ac-524fd619b31b button.colab-df-convert');\n",
              "        buttonEl.style.display =\n",
              "          google.colab.kernel.accessAllowed ? 'block' : 'none';\n",
              "\n",
              "        async function convertToInteractive(key) {\n",
              "          const element = document.querySelector('#df-28be76be-42ea-4f11-b3ac-524fd619b31b');\n",
              "          const dataTable =\n",
              "            await google.colab.kernel.invokeFunction('convertToInteractive',\n",
              "                                                     [key], {});\n",
              "          if (!dataTable) return;\n",
              "\n",
              "          const docLinkHtml = 'Like what you see? Visit the ' +\n",
              "            '<a target=\"_blank\" href=https://colab.research.google.com/notebooks/data_table.ipynb>data table notebook</a>'\n",
              "            + ' to learn more about interactive tables.';\n",
              "          element.innerHTML = '';\n",
              "          dataTable['output_type'] = 'display_data';\n",
              "          await google.colab.output.renderOutput(dataTable, element);\n",
              "          const docLink = document.createElement('div');\n",
              "          docLink.innerHTML = docLinkHtml;\n",
              "          element.appendChild(docLink);\n",
              "        }\n",
              "      </script>\n",
              "    </div>\n",
              "  </div>\n",
              "  "
            ]
          },
          "metadata": {},
          "execution_count": 4
        }
      ]
    },
    {
      "cell_type": "code",
      "source": [
        "def get_types(base='/content/drive/MyDrive/W266-final-project/data/BBC News Summary/', summ_type='Summaries/', indicies_df=indicies_df):\n",
        "  '''\n",
        "  takes in base location of file directory, and summary types\n",
        "  returns DF indexed by article number in indicies_df\n",
        "  '''\n",
        "  nlp = spacy.load(\"en_core_web_sm\")\n",
        "  final_df = indicies_df.copy()\n",
        "  for t in indicies_df.columns:\n",
        "    #holds the text for each articles\n",
        "    txt1=[] \n",
        "    pos1 = []\n",
        "    dep1 = []\n",
        "    stop1 = []\n",
        "    for i in indicies_df[t]: #iterates through each article\n",
        "      if i<10:\n",
        "        i='00' + str(i)\n",
        "      elif i<100:\n",
        "        i='0'+str(i)\n",
        "      else:\n",
        "        i=str(i)\n",
        "      file = open(base + summ_type + t + '/' + i + '.txt', 'r', errors='replace')\n",
        "      txt = nlp(file.read())\n",
        "      #count each indivual POS in the text\n",
        "      pos_types=[]\n",
        "      dep_types = []\n",
        "      is_stop_lst = []\n",
        "      for token in txt:  #takes the parts adds the strings to a list\n",
        "        pos_types.append(token.pos_)\n",
        "        dep_types.append(token.dep_)\n",
        "        is_stop_lst.append(token.is_stop)\n",
        "      #takes the lists of strings, adds them to a master list for each category\n",
        "      pos1.append(pos_types) \n",
        "      dep1.append(dep_types)\n",
        "      stop1.append(is_stop_lst)\n",
        "      txt1.append(txt)\n",
        "    #add to DF- each column- whats in the list\n",
        "    final_df[summ_type + '-'+ 'text'] = txt1\n",
        "    final_df[summ_type + '-' + t+'-POS'] = pos1\n",
        "    final_df[summ_type + '-' + t+'-DEP'] = dep1\n",
        "    final_df[summ_type + '-' + t+'-STOP'] = stop1\n",
        "    # list( list(article parts))\n",
        "  return final_df\n"
      ],
      "metadata": {
        "id": "kVBdiJbP7C5X"
      },
      "execution_count": 5,
      "outputs": []
    },
    {
      "cell_type": "code",
      "source": [
        "df_article = get_types(summ_type='News Articles/')\n",
        "#df_article"
      ],
      "metadata": {
        "id": "nY3EiPIyJLTi"
      },
      "execution_count": 6,
      "outputs": []
    },
    {
      "cell_type": "code",
      "source": [
        "df = get_types()\n",
        "#df"
      ],
      "metadata": {
        "id": "kpcaVCblIDCQ"
      },
      "execution_count": 7,
      "outputs": []
    },
    {
      "cell_type": "code",
      "source": [
        "df_final = pd.merge(df, df_article, how='inner', on=['business', 'entertainment', 'politics', 'sport', 'tech'])\n",
        "#df_final"
      ],
      "metadata": {
        "id": "jofyEhX2Llzk"
      },
      "execution_count": 8,
      "outputs": []
    },
    {
      "cell_type": "code",
      "source": [
        "#df_final.to_csv('EDA_masking_df.csv')"
      ],
      "metadata": {
        "id": "cL0GHY-5NDYr"
      },
      "execution_count": null,
      "outputs": []
    },
    {
      "cell_type": "code",
      "source": [
        "#get the count for each POS, then plot them by type to see if there is a difference within each category\n",
        "cols = ['Summaries/-business-POS', 'Summaries/-business-DEP',\n",
        "       'Summaries/-business-STOP', 'Summaries/-entertainment-POS',\n",
        "       'Summaries/-entertainment-DEP', 'Summaries/-entertainment-STOP',\n",
        "       'Summaries/-politics-POS', 'Summaries/-politics-DEP',\n",
        "       'Summaries/-politics-STOP', 'Summaries/-sport-POS',\n",
        "       'Summaries/-sport-DEP', 'Summaries/-sport-STOP', 'Summaries/-tech-POS',\n",
        "       'Summaries/-tech-DEP', 'Summaries/-tech-STOP', 'News Articles/-text',\n",
        "       'News Articles/-business-POS', 'News Articles/-business-DEP',\n",
        "       'News Articles/-business-STOP', 'News Articles/-entertainment-POS',\n",
        "       'News Articles/-entertainment-DEP', 'News Articles/-entertainment-STOP',\n",
        "       'News Articles/-politics-POS', 'News Articles/-politics-DEP',\n",
        "       'News Articles/-politics-STOP', 'News Articles/-sport-POS',\n",
        "       'News Articles/-sport-DEP', 'News Articles/-sport-STOP',\n",
        "       'News Articles/-tech-POS', 'News Articles/-tech-DEP',\n",
        "       'News Articles/-tech-STOP']\n",
        "\n",
        "def def_value():\n",
        "    return 0\n",
        "\n",
        "counts_df = df_final.copy()\n",
        "\n",
        "for c in cols:\n",
        "  cnts = defaultdict(def_value)\n",
        "  cnt = Counter()\n",
        "  for i in range(len(counts_df[c])):\n",
        "    lst = str(counts_df[c][i]).split(',')\n",
        "    for j,l in enumerate(lst):\n",
        "      if ']' in l:\n",
        "        lst[j] = l[:-1]\n",
        "      if '[' in l:\n",
        "        lst[j] = ' ' + l[1:]\n",
        "    dictionaryy = Counter(lst)\n",
        "    counts_df[c][i] = dictionaryy\n",
        "    for k in dictionaryy:\n",
        "      cnts[k] += dictionaryy[k]\n",
        "  for k in cnts:\n",
        "    cnts[k] = cnts[k]/100\n",
        "  counts_df[c+' averages'] = [cnts] * len(counts_df[c])\n",
        "\n",
        "\n"
      ],
      "metadata": {
        "id": "ByVzaa15NS1n",
        "colab": {
          "base_uri": "https://localhost:8080/"
        },
        "outputId": "c5dc7e73-b522-4e44-cf19-e53d282790cc"
      },
      "execution_count": 9,
      "outputs": [
        {
          "output_type": "stream",
          "name": "stderr",
          "text": [
            "/usr/local/lib/python3.7/dist-packages/ipykernel_launcher.py:34: SettingWithCopyWarning: \n",
            "A value is trying to be set on a copy of a slice from a DataFrame\n",
            "\n",
            "See the caveats in the documentation: https://pandas.pydata.org/pandas-docs/stable/user_guide/indexing.html#returning-a-view-versus-a-copy\n"
          ]
        }
      ]
    },
    {
      "cell_type": "code",
      "source": [
        "counts_df"
      ],
      "metadata": {
        "id": "NK3UmPSv2JoT"
      },
      "execution_count": null,
      "outputs": []
    },
    {
      "cell_type": "code",
      "source": [
        "df = pd.DataFrame.from_dict(counts_df['Summaries/-business-POS averages'][0].items())\n",
        "df2 = pd.DataFrame.from_dict(counts_df['News Articles/-business-POS averages'][0].items())\n",
        "\n",
        "df = pd.merge(df, df2, how='inner', on=[0])\n",
        "df.rename(columns={0: '0'}, inplace=True)"
      ],
      "metadata": {
        "id": "TBDE9pSTwk_Q"
      },
      "execution_count": 10,
      "outputs": []
    },
    {
      "cell_type": "code",
      "source": [
        "#can't save dictionaries in DF to CSV- will get turned into strings\n",
        "df2 = pd.DataFrame.from_dict(counts_df['News Articles/-business-POS averages'][0].items())\n",
        "df2.rename(columns={0: 'POS', 1:'Avg'}, inplace=True)\n",
        "df2"
      ],
      "metadata": {
        "id": "MSuSONziad0H",
        "colab": {
          "base_uri": "https://localhost:8080/",
          "height": 614
        },
        "outputId": "ee2fb9ac-3f51-4125-ac73-6c8cfd056e4f"
      },
      "execution_count": 11,
      "outputs": [
        {
          "output_type": "execute_result",
          "data": {
            "text/plain": [
              "         POS    Avg\n",
              "0      'ADJ'  24.26\n",
              "1     'NOUN'  77.34\n",
              "2    'PUNCT'  41.64\n",
              "3      'ADP'  36.74\n",
              "4     'VERB'  42.49\n",
              "5    'SPACE'   5.18\n",
              "6    'PROPN'  35.84\n",
              "7      'AUX'  15.57\n",
              "8      'DET'  35.61\n",
              "9      'SYM'   2.41\n",
              "10     'NUM'  11.63\n",
              "11   'SCONJ'   6.76\n",
              "12     'ADV'  10.25\n",
              "13    'PRON'   6.48\n",
              "14    'PART'  11.69\n",
              "15   'CCONJ'   7.94\n",
              "16       'X'   0.01\n",
              "17    'INTJ'   0.02"
            ],
            "text/html": [
              "\n",
              "  <div id=\"df-250140b2-4ea6-4d63-a475-b84158aeac2d\">\n",
              "    <div class=\"colab-df-container\">\n",
              "      <div>\n",
              "<style scoped>\n",
              "    .dataframe tbody tr th:only-of-type {\n",
              "        vertical-align: middle;\n",
              "    }\n",
              "\n",
              "    .dataframe tbody tr th {\n",
              "        vertical-align: top;\n",
              "    }\n",
              "\n",
              "    .dataframe thead th {\n",
              "        text-align: right;\n",
              "    }\n",
              "</style>\n",
              "<table border=\"1\" class=\"dataframe\">\n",
              "  <thead>\n",
              "    <tr style=\"text-align: right;\">\n",
              "      <th></th>\n",
              "      <th>POS</th>\n",
              "      <th>Avg</th>\n",
              "    </tr>\n",
              "  </thead>\n",
              "  <tbody>\n",
              "    <tr>\n",
              "      <th>0</th>\n",
              "      <td>'ADJ'</td>\n",
              "      <td>24.26</td>\n",
              "    </tr>\n",
              "    <tr>\n",
              "      <th>1</th>\n",
              "      <td>'NOUN'</td>\n",
              "      <td>77.34</td>\n",
              "    </tr>\n",
              "    <tr>\n",
              "      <th>2</th>\n",
              "      <td>'PUNCT'</td>\n",
              "      <td>41.64</td>\n",
              "    </tr>\n",
              "    <tr>\n",
              "      <th>3</th>\n",
              "      <td>'ADP'</td>\n",
              "      <td>36.74</td>\n",
              "    </tr>\n",
              "    <tr>\n",
              "      <th>4</th>\n",
              "      <td>'VERB'</td>\n",
              "      <td>42.49</td>\n",
              "    </tr>\n",
              "    <tr>\n",
              "      <th>5</th>\n",
              "      <td>'SPACE'</td>\n",
              "      <td>5.18</td>\n",
              "    </tr>\n",
              "    <tr>\n",
              "      <th>6</th>\n",
              "      <td>'PROPN'</td>\n",
              "      <td>35.84</td>\n",
              "    </tr>\n",
              "    <tr>\n",
              "      <th>7</th>\n",
              "      <td>'AUX'</td>\n",
              "      <td>15.57</td>\n",
              "    </tr>\n",
              "    <tr>\n",
              "      <th>8</th>\n",
              "      <td>'DET'</td>\n",
              "      <td>35.61</td>\n",
              "    </tr>\n",
              "    <tr>\n",
              "      <th>9</th>\n",
              "      <td>'SYM'</td>\n",
              "      <td>2.41</td>\n",
              "    </tr>\n",
              "    <tr>\n",
              "      <th>10</th>\n",
              "      <td>'NUM'</td>\n",
              "      <td>11.63</td>\n",
              "    </tr>\n",
              "    <tr>\n",
              "      <th>11</th>\n",
              "      <td>'SCONJ'</td>\n",
              "      <td>6.76</td>\n",
              "    </tr>\n",
              "    <tr>\n",
              "      <th>12</th>\n",
              "      <td>'ADV'</td>\n",
              "      <td>10.25</td>\n",
              "    </tr>\n",
              "    <tr>\n",
              "      <th>13</th>\n",
              "      <td>'PRON'</td>\n",
              "      <td>6.48</td>\n",
              "    </tr>\n",
              "    <tr>\n",
              "      <th>14</th>\n",
              "      <td>'PART'</td>\n",
              "      <td>11.69</td>\n",
              "    </tr>\n",
              "    <tr>\n",
              "      <th>15</th>\n",
              "      <td>'CCONJ'</td>\n",
              "      <td>7.94</td>\n",
              "    </tr>\n",
              "    <tr>\n",
              "      <th>16</th>\n",
              "      <td>'X'</td>\n",
              "      <td>0.01</td>\n",
              "    </tr>\n",
              "    <tr>\n",
              "      <th>17</th>\n",
              "      <td>'INTJ'</td>\n",
              "      <td>0.02</td>\n",
              "    </tr>\n",
              "  </tbody>\n",
              "</table>\n",
              "</div>\n",
              "      <button class=\"colab-df-convert\" onclick=\"convertToInteractive('df-250140b2-4ea6-4d63-a475-b84158aeac2d')\"\n",
              "              title=\"Convert this dataframe to an interactive table.\"\n",
              "              style=\"display:none;\">\n",
              "        \n",
              "  <svg xmlns=\"http://www.w3.org/2000/svg\" height=\"24px\"viewBox=\"0 0 24 24\"\n",
              "       width=\"24px\">\n",
              "    <path d=\"M0 0h24v24H0V0z\" fill=\"none\"/>\n",
              "    <path d=\"M18.56 5.44l.94 2.06.94-2.06 2.06-.94-2.06-.94-.94-2.06-.94 2.06-2.06.94zm-11 1L8.5 8.5l.94-2.06 2.06-.94-2.06-.94L8.5 2.5l-.94 2.06-2.06.94zm10 10l.94 2.06.94-2.06 2.06-.94-2.06-.94-.94-2.06-.94 2.06-2.06.94z\"/><path d=\"M17.41 7.96l-1.37-1.37c-.4-.4-.92-.59-1.43-.59-.52 0-1.04.2-1.43.59L10.3 9.45l-7.72 7.72c-.78.78-.78 2.05 0 2.83L4 21.41c.39.39.9.59 1.41.59.51 0 1.02-.2 1.41-.59l7.78-7.78 2.81-2.81c.8-.78.8-2.07 0-2.86zM5.41 20L4 18.59l7.72-7.72 1.47 1.35L5.41 20z\"/>\n",
              "  </svg>\n",
              "      </button>\n",
              "      \n",
              "  <style>\n",
              "    .colab-df-container {\n",
              "      display:flex;\n",
              "      flex-wrap:wrap;\n",
              "      gap: 12px;\n",
              "    }\n",
              "\n",
              "    .colab-df-convert {\n",
              "      background-color: #E8F0FE;\n",
              "      border: none;\n",
              "      border-radius: 50%;\n",
              "      cursor: pointer;\n",
              "      display: none;\n",
              "      fill: #1967D2;\n",
              "      height: 32px;\n",
              "      padding: 0 0 0 0;\n",
              "      width: 32px;\n",
              "    }\n",
              "\n",
              "    .colab-df-convert:hover {\n",
              "      background-color: #E2EBFA;\n",
              "      box-shadow: 0px 1px 2px rgba(60, 64, 67, 0.3), 0px 1px 3px 1px rgba(60, 64, 67, 0.15);\n",
              "      fill: #174EA6;\n",
              "    }\n",
              "\n",
              "    [theme=dark] .colab-df-convert {\n",
              "      background-color: #3B4455;\n",
              "      fill: #D2E3FC;\n",
              "    }\n",
              "\n",
              "    [theme=dark] .colab-df-convert:hover {\n",
              "      background-color: #434B5C;\n",
              "      box-shadow: 0px 1px 3px 1px rgba(0, 0, 0, 0.15);\n",
              "      filter: drop-shadow(0px 1px 2px rgba(0, 0, 0, 0.3));\n",
              "      fill: #FFFFFF;\n",
              "    }\n",
              "  </style>\n",
              "\n",
              "      <script>\n",
              "        const buttonEl =\n",
              "          document.querySelector('#df-250140b2-4ea6-4d63-a475-b84158aeac2d button.colab-df-convert');\n",
              "        buttonEl.style.display =\n",
              "          google.colab.kernel.accessAllowed ? 'block' : 'none';\n",
              "\n",
              "        async function convertToInteractive(key) {\n",
              "          const element = document.querySelector('#df-250140b2-4ea6-4d63-a475-b84158aeac2d');\n",
              "          const dataTable =\n",
              "            await google.colab.kernel.invokeFunction('convertToInteractive',\n",
              "                                                     [key], {});\n",
              "          if (!dataTable) return;\n",
              "\n",
              "          const docLinkHtml = 'Like what you see? Visit the ' +\n",
              "            '<a target=\"_blank\" href=https://colab.research.google.com/notebooks/data_table.ipynb>data table notebook</a>'\n",
              "            + ' to learn more about interactive tables.';\n",
              "          element.innerHTML = '';\n",
              "          dataTable['output_type'] = 'display_data';\n",
              "          await google.colab.output.renderOutput(dataTable, element);\n",
              "          const docLink = document.createElement('div');\n",
              "          docLink.innerHTML = docLinkHtml;\n",
              "          element.appendChild(docLink);\n",
              "        }\n",
              "      </script>\n",
              "    </div>\n",
              "  </div>\n",
              "  "
            ]
          },
          "metadata": {},
          "execution_count": 11
        }
      ]
    },
    {
      "cell_type": "code",
      "source": [
        "df = pd.DataFrame.from_dict(counts_df['Summaries/-business-POS averages'][0].items())\n",
        "#df"
      ],
      "metadata": {
        "id": "dxZs8FF9c1eY"
      },
      "execution_count": 12,
      "outputs": []
    },
    {
      "cell_type": "markdown",
      "source": [
        "# **Compare the summaries & articles for each category**"
      ],
      "metadata": {
        "id": "MK6He3lCk3mB"
      }
    },
    {
      "cell_type": "code",
      "source": [
        "def create_comparison_viz(df, df2, category):\n",
        "  #get the upper limit and round up to the nearest 10\n",
        "  #max1 = int(math.ceil(df[1].max() / 10.0) * 10)\n",
        "  #max2 = int(math.ceil(df2[1].max() / 10.0) * 10)\n",
        "  #upper_limit = max(max1, max2)\n",
        "\n",
        "\n",
        "  chart1 = alt.Chart(df).mark_bar().encode(\n",
        "      x= alt.X('avg:Q', title=\"Average count for Summary\", scale=alt.Scale(domain=[0, 140])),\n",
        "      y = alt.Y(\"POS:O\", title=\"POS\", sort='-x')\n",
        "  )\n",
        "\n",
        "  chart2 = alt.Chart(df2).mark_bar().encode(\n",
        "      x=alt.X('avg:Q', title=\"Average count for Article\", scale=alt.Scale(domain=[0, 140])),\n",
        "      y= alt.Y(\"POS:O\", title=\"\", sort='-x') \n",
        "  )\n",
        "\n",
        "  chart = alt.hconcat(chart1 | chart2)\n",
        "  chart = chart.properties(title=f\"Distribution of Parts of Speech (POS) for \" + category).configure_title(anchor='middle')\n",
        "  return chart"
      ],
      "metadata": {
        "id": "-27d9ZVxlTER"
      },
      "execution_count": 15,
      "outputs": []
    },
    {
      "cell_type": "code",
      "source": [
        "df_test1 = pd.DataFrame.from_dict(counts_df['Summaries/-business-POS averages'][0].items()).rename(columns={0: 'POS', 1: 'avg'})\n",
        "df_test2 = pd.DataFrame.from_dict(counts_df['News Articles/-business-POS averages'][0].items()).rename(columns={0: 'POS', 1: 'avg'})\n",
        "\n",
        "\n",
        "create_comparison_viz(df_test1, df_test2, 'business')"
      ],
      "metadata": {
        "id": "Uur4Gi3Bk4c0",
        "colab": {
          "base_uri": "https://localhost:8080/",
          "height": 442
        },
        "outputId": "21bfc258-bbb1-4822-f461-ca689ec55f2d"
      },
      "execution_count": 16,
      "outputs": [
        {
          "output_type": "execute_result",
          "data": {
            "text/html": [
              "\n",
              "<div id=\"altair-viz-dffdf26367e44d17bbf455210eecc428\"></div>\n",
              "<script type=\"text/javascript\">\n",
              "  var VEGA_DEBUG = (typeof VEGA_DEBUG == \"undefined\") ? {} : VEGA_DEBUG;\n",
              "  (function(spec, embedOpt){\n",
              "    let outputDiv = document.currentScript.previousElementSibling;\n",
              "    if (outputDiv.id !== \"altair-viz-dffdf26367e44d17bbf455210eecc428\") {\n",
              "      outputDiv = document.getElementById(\"altair-viz-dffdf26367e44d17bbf455210eecc428\");\n",
              "    }\n",
              "    const paths = {\n",
              "      \"vega\": \"https://cdn.jsdelivr.net/npm//vega@5?noext\",\n",
              "      \"vega-lib\": \"https://cdn.jsdelivr.net/npm//vega-lib?noext\",\n",
              "      \"vega-lite\": \"https://cdn.jsdelivr.net/npm//vega-lite@4.17.0?noext\",\n",
              "      \"vega-embed\": \"https://cdn.jsdelivr.net/npm//vega-embed@6?noext\",\n",
              "    };\n",
              "\n",
              "    function maybeLoadScript(lib, version) {\n",
              "      var key = `${lib.replace(\"-\", \"\")}_version`;\n",
              "      return (VEGA_DEBUG[key] == version) ?\n",
              "        Promise.resolve(paths[lib]) :\n",
              "        new Promise(function(resolve, reject) {\n",
              "          var s = document.createElement('script');\n",
              "          document.getElementsByTagName(\"head\")[0].appendChild(s);\n",
              "          s.async = true;\n",
              "          s.onload = () => {\n",
              "            VEGA_DEBUG[key] = version;\n",
              "            return resolve(paths[lib]);\n",
              "          };\n",
              "          s.onerror = () => reject(`Error loading script: ${paths[lib]}`);\n",
              "          s.src = paths[lib];\n",
              "        });\n",
              "    }\n",
              "\n",
              "    function showError(err) {\n",
              "      outputDiv.innerHTML = `<div class=\"error\" style=\"color:red;\">${err}</div>`;\n",
              "      throw err;\n",
              "    }\n",
              "\n",
              "    function displayChart(vegaEmbed) {\n",
              "      vegaEmbed(outputDiv, spec, embedOpt)\n",
              "        .catch(err => showError(`Javascript Error: ${err.message}<br>This usually means there's a typo in your chart specification. See the javascript console for the full traceback.`));\n",
              "    }\n",
              "\n",
              "    if(typeof define === \"function\" && define.amd) {\n",
              "      requirejs.config({paths});\n",
              "      require([\"vega-embed\"], displayChart, err => showError(`Error loading script: ${err.message}`));\n",
              "    } else {\n",
              "      maybeLoadScript(\"vega\", \"5\")\n",
              "        .then(() => maybeLoadScript(\"vega-lite\", \"4.17.0\"))\n",
              "        .then(() => maybeLoadScript(\"vega-embed\", \"6\"))\n",
              "        .catch(showError)\n",
              "        .then(() => displayChart(vegaEmbed));\n",
              "    }\n",
              "  })({\"config\": {\"view\": {\"continuousWidth\": 400, \"continuousHeight\": 300}, \"title\": {\"anchor\": \"middle\"}}, \"hconcat\": [{\"hconcat\": [{\"data\": {\"name\": \"data-dc74dc334bc1fc1a35330f4e56c96e43\"}, \"mark\": \"bar\", \"encoding\": {\"x\": {\"field\": \"avg\", \"scale\": {\"domain\": [0, 140]}, \"title\": \"Average count for Summary\", \"type\": \"quantitative\"}, \"y\": {\"field\": \"POS\", \"sort\": \"-x\", \"title\": \"POS\", \"type\": \"ordinal\"}}}, {\"data\": {\"name\": \"data-1cf5a3f06378efbd862646275fe411ec\"}, \"mark\": \"bar\", \"encoding\": {\"x\": {\"field\": \"avg\", \"scale\": {\"domain\": [0, 140]}, \"title\": \"Average count for Article\", \"type\": \"quantitative\"}, \"y\": {\"field\": \"POS\", \"sort\": \"-x\", \"title\": \"\", \"type\": \"ordinal\"}}}]}], \"title\": \"Distribution of Parts of Speech (POS) for business\", \"$schema\": \"https://vega.github.io/schema/vega-lite/v4.17.0.json\", \"datasets\": {\"data-dc74dc334bc1fc1a35330f4e56c96e43\": [{\"POS\": \" 'ADJ'\", \"avg\": 10.32}, {\"POS\": \" 'NOUN'\", \"avg\": 33.08}, {\"POS\": \" 'PROPN'\", \"avg\": 18.01}, {\"POS\": \" 'VERB'\", \"avg\": 18.7}, {\"POS\": \" 'SCONJ'\", \"avg\": 2.94}, {\"POS\": \" 'AUX'\", \"avg\": 6.87}, {\"POS\": \" 'PUNCT'\", \"avg\": 17.22}, {\"POS\": \" 'ADP'\", \"avg\": 16.26}, {\"POS\": \" 'ADV'\", \"avg\": 3.88}, {\"POS\": \" 'PRON'\", \"avg\": 2.19}, {\"POS\": \" 'DET'\", \"avg\": 15.68}, {\"POS\": \" 'PART'\", \"avg\": 5.39}, {\"POS\": \" 'CCONJ'\", \"avg\": 3.21}, {\"POS\": \" 'NUM'\", \"avg\": 5.1}, {\"POS\": \" 'SYM'\", \"avg\": 1.17}, {\"POS\": \" 'X'\", \"avg\": 0.01}, {\"POS\": \" 'INTJ'\", \"avg\": 0.01}, {\"POS\": \" 'SPACE'\", \"avg\": 0.01}], \"data-1cf5a3f06378efbd862646275fe411ec\": [{\"POS\": \" 'ADJ'\", \"avg\": 24.26}, {\"POS\": \" 'NOUN'\", \"avg\": 77.34}, {\"POS\": \" 'PUNCT'\", \"avg\": 41.64}, {\"POS\": \" 'ADP'\", \"avg\": 36.74}, {\"POS\": \" 'VERB'\", \"avg\": 42.49}, {\"POS\": \" 'SPACE'\", \"avg\": 5.18}, {\"POS\": \" 'PROPN'\", \"avg\": 35.84}, {\"POS\": \" 'AUX'\", \"avg\": 15.57}, {\"POS\": \" 'DET'\", \"avg\": 35.61}, {\"POS\": \" 'SYM'\", \"avg\": 2.41}, {\"POS\": \" 'NUM'\", \"avg\": 11.63}, {\"POS\": \" 'SCONJ'\", \"avg\": 6.76}, {\"POS\": \" 'ADV'\", \"avg\": 10.25}, {\"POS\": \" 'PRON'\", \"avg\": 6.48}, {\"POS\": \" 'PART'\", \"avg\": 11.69}, {\"POS\": \" 'CCONJ'\", \"avg\": 7.94}, {\"POS\": \" 'X'\", \"avg\": 0.01}, {\"POS\": \" 'INTJ'\", \"avg\": 0.02}]}}, {\"mode\": \"vega-lite\"});\n",
              "</script>"
            ],
            "text/plain": [
              "alt.HConcatChart(...)"
            ]
          },
          "metadata": {},
          "execution_count": 16
        }
      ]
    },
    {
      "cell_type": "code",
      "source": [
        "#double check this one\n",
        "df = pd.DataFrame.from_dict(counts_df['Summaries/-entertainment-POS averages'][0].items()).rename(columns={0: 'POS', 1: 'avg'}).rename(columns={0: 'POS', 1: 'avg'})\n",
        "df_2 = pd.DataFrame.from_dict(counts_df['News Articles/-entertainment-POS averages'][0].items()).rename(columns={0: 'POS', 1: 'avg'}).rename(columns={0: 'POS', 1: 'avg'})\n",
        "\n",
        "create_comparison_viz(df, df_2, 'entertainment')"
      ],
      "metadata": {
        "colab": {
          "base_uri": "https://localhost:8080/",
          "height": 442
        },
        "id": "JpNEFBB8mpGE",
        "outputId": "083d6aa5-b18e-4756-ddd5-fcb54efbb570"
      },
      "execution_count": 17,
      "outputs": [
        {
          "output_type": "execute_result",
          "data": {
            "text/html": [
              "\n",
              "<div id=\"altair-viz-2b08682190f04a719ca639d3f68a2e8d\"></div>\n",
              "<script type=\"text/javascript\">\n",
              "  var VEGA_DEBUG = (typeof VEGA_DEBUG == \"undefined\") ? {} : VEGA_DEBUG;\n",
              "  (function(spec, embedOpt){\n",
              "    let outputDiv = document.currentScript.previousElementSibling;\n",
              "    if (outputDiv.id !== \"altair-viz-2b08682190f04a719ca639d3f68a2e8d\") {\n",
              "      outputDiv = document.getElementById(\"altair-viz-2b08682190f04a719ca639d3f68a2e8d\");\n",
              "    }\n",
              "    const paths = {\n",
              "      \"vega\": \"https://cdn.jsdelivr.net/npm//vega@5?noext\",\n",
              "      \"vega-lib\": \"https://cdn.jsdelivr.net/npm//vega-lib?noext\",\n",
              "      \"vega-lite\": \"https://cdn.jsdelivr.net/npm//vega-lite@4.17.0?noext\",\n",
              "      \"vega-embed\": \"https://cdn.jsdelivr.net/npm//vega-embed@6?noext\",\n",
              "    };\n",
              "\n",
              "    function maybeLoadScript(lib, version) {\n",
              "      var key = `${lib.replace(\"-\", \"\")}_version`;\n",
              "      return (VEGA_DEBUG[key] == version) ?\n",
              "        Promise.resolve(paths[lib]) :\n",
              "        new Promise(function(resolve, reject) {\n",
              "          var s = document.createElement('script');\n",
              "          document.getElementsByTagName(\"head\")[0].appendChild(s);\n",
              "          s.async = true;\n",
              "          s.onload = () => {\n",
              "            VEGA_DEBUG[key] = version;\n",
              "            return resolve(paths[lib]);\n",
              "          };\n",
              "          s.onerror = () => reject(`Error loading script: ${paths[lib]}`);\n",
              "          s.src = paths[lib];\n",
              "        });\n",
              "    }\n",
              "\n",
              "    function showError(err) {\n",
              "      outputDiv.innerHTML = `<div class=\"error\" style=\"color:red;\">${err}</div>`;\n",
              "      throw err;\n",
              "    }\n",
              "\n",
              "    function displayChart(vegaEmbed) {\n",
              "      vegaEmbed(outputDiv, spec, embedOpt)\n",
              "        .catch(err => showError(`Javascript Error: ${err.message}<br>This usually means there's a typo in your chart specification. See the javascript console for the full traceback.`));\n",
              "    }\n",
              "\n",
              "    if(typeof define === \"function\" && define.amd) {\n",
              "      requirejs.config({paths});\n",
              "      require([\"vega-embed\"], displayChart, err => showError(`Error loading script: ${err.message}`));\n",
              "    } else {\n",
              "      maybeLoadScript(\"vega\", \"5\")\n",
              "        .then(() => maybeLoadScript(\"vega-lite\", \"4.17.0\"))\n",
              "        .then(() => maybeLoadScript(\"vega-embed\", \"6\"))\n",
              "        .catch(showError)\n",
              "        .then(() => displayChart(vegaEmbed));\n",
              "    }\n",
              "  })({\"config\": {\"view\": {\"continuousWidth\": 400, \"continuousHeight\": 300}, \"title\": {\"anchor\": \"middle\"}}, \"hconcat\": [{\"hconcat\": [{\"data\": {\"name\": \"data-93f4185f9eb25751a5f8eab3a1699ab8\"}, \"mark\": \"bar\", \"encoding\": {\"x\": {\"field\": \"avg\", \"scale\": {\"domain\": [0, 140]}, \"title\": \"Average count for Summary\", \"type\": \"quantitative\"}, \"y\": {\"field\": \"POS\", \"sort\": \"-x\", \"title\": \"POS\", \"type\": \"ordinal\"}}}, {\"data\": {\"name\": \"data-6dd21885317eecc0fd7447c16ae226de\"}, \"mark\": \"bar\", \"encoding\": {\"x\": {\"field\": \"avg\", \"scale\": {\"domain\": [0, 140]}, \"title\": \"Average count for Article\", \"type\": \"quantitative\"}, \"y\": {\"field\": \"POS\", \"sort\": \"-x\", \"title\": \"\", \"type\": \"ordinal\"}}}]}], \"title\": \"Distribution of Parts of Speech (POS) for entertainment\", \"$schema\": \"https://vega.github.io/schema/vega-lite/v4.17.0.json\", \"datasets\": {\"data-93f4185f9eb25751a5f8eab3a1699ab8\": [{\"POS\": \" 'DET'\", \"avg\": 15.71}, {\"POS\": \" 'NOUN'\", \"avg\": 27.15}, {\"POS\": \" 'VERB'\", \"avg\": 15.7}, {\"POS\": \" 'ADP'\", \"avg\": 16.02}, {\"POS\": \" 'PUNCT'\", \"avg\": 16.11}, {\"POS\": \" 'PROPN'\", \"avg\": 23.38}, {\"POS\": \" 'AUX'\", \"avg\": 7.05}, {\"POS\": \" 'ADJ'\", \"avg\": 8.98}, {\"POS\": \" 'ADV'\", \"avg\": 4.15}, {\"POS\": \" 'PART'\", \"avg\": 4.24}, {\"POS\": \" 'CCONJ'\", \"avg\": 3.49}, {\"POS\": \" 'PRON'\", \"avg\": 3.65}, {\"POS\": \" 'NUM'\", \"avg\": 4.13}, {\"POS\": \" 'SCONJ'\", \"avg\": 1.95}, {\"POS\": \" 'SYM'\", \"avg\": 0.39}, {\"POS\": \" 'X'\", \"avg\": 0.02}, {\"POS\": \" 'INTJ'\", \"avg\": 0.02}], \"data-6dd21885317eecc0fd7447c16ae226de\": [{\"POS\": \" 'PROPN'\", \"avg\": 49.56}, {\"POS\": \" 'ADP'\", \"avg\": 34.55}, {\"POS\": \" 'ADJ'\", \"avg\": 19.59}, {\"POS\": \" 'NOUN'\", \"avg\": 59.71}, {\"POS\": \" 'SPACE'\", \"avg\": 4.67}, {\"POS\": \" 'DET'\", \"avg\": 34.37}, {\"POS\": \" 'VERB'\", \"avg\": 36.11}, {\"POS\": \" 'PUNCT'\", \"avg\": 40.48}, {\"POS\": \" 'AUX'\", \"avg\": 15.5}, {\"POS\": \" 'PRON'\", \"avg\": 11.15}, {\"POS\": \" 'CCONJ'\", \"avg\": 8.46}, {\"POS\": \" 'PART'\", \"avg\": 9.51}, {\"POS\": \" 'SCONJ'\", \"avg\": 4.55}, {\"POS\": \" 'ADV'\", \"avg\": 9.88}, {\"POS\": \" 'NUM'\", \"avg\": 9.02}, {\"POS\": \" 'SYM'\", \"avg\": 1.04}, {\"POS\": \" 'INTJ'\", \"avg\": 0.05}, {\"POS\": \" 'X'\", \"avg\": 0.04}]}}, {\"mode\": \"vega-lite\"});\n",
              "</script>"
            ],
            "text/plain": [
              "alt.HConcatChart(...)"
            ]
          },
          "metadata": {},
          "execution_count": 17
        }
      ]
    },
    {
      "cell_type": "code",
      "source": [
        "df = pd.DataFrame.from_dict(counts_df['Summaries/-politics-POS averages'][0].items()).rename(columns={0: 'POS', 1: 'avg'})\n",
        "df_2 = pd.DataFrame.from_dict(counts_df['News Articles/-politics-POS averages'][0].items()).rename(columns={0: 'POS', 1: 'avg'})\n",
        "\n",
        "create_comparison_viz(df, df_2, 'politics')"
      ],
      "metadata": {
        "colab": {
          "base_uri": "https://localhost:8080/",
          "height": 442
        },
        "id": "_LcJHckGpZm6",
        "outputId": "38f85f33-b564-44a7-8b69-6d2ba1ff46e2"
      },
      "execution_count": 18,
      "outputs": [
        {
          "output_type": "execute_result",
          "data": {
            "text/html": [
              "\n",
              "<div id=\"altair-viz-57e1352e4e6d488d99d3800a0cf7955e\"></div>\n",
              "<script type=\"text/javascript\">\n",
              "  var VEGA_DEBUG = (typeof VEGA_DEBUG == \"undefined\") ? {} : VEGA_DEBUG;\n",
              "  (function(spec, embedOpt){\n",
              "    let outputDiv = document.currentScript.previousElementSibling;\n",
              "    if (outputDiv.id !== \"altair-viz-57e1352e4e6d488d99d3800a0cf7955e\") {\n",
              "      outputDiv = document.getElementById(\"altair-viz-57e1352e4e6d488d99d3800a0cf7955e\");\n",
              "    }\n",
              "    const paths = {\n",
              "      \"vega\": \"https://cdn.jsdelivr.net/npm//vega@5?noext\",\n",
              "      \"vega-lib\": \"https://cdn.jsdelivr.net/npm//vega-lib?noext\",\n",
              "      \"vega-lite\": \"https://cdn.jsdelivr.net/npm//vega-lite@4.17.0?noext\",\n",
              "      \"vega-embed\": \"https://cdn.jsdelivr.net/npm//vega-embed@6?noext\",\n",
              "    };\n",
              "\n",
              "    function maybeLoadScript(lib, version) {\n",
              "      var key = `${lib.replace(\"-\", \"\")}_version`;\n",
              "      return (VEGA_DEBUG[key] == version) ?\n",
              "        Promise.resolve(paths[lib]) :\n",
              "        new Promise(function(resolve, reject) {\n",
              "          var s = document.createElement('script');\n",
              "          document.getElementsByTagName(\"head\")[0].appendChild(s);\n",
              "          s.async = true;\n",
              "          s.onload = () => {\n",
              "            VEGA_DEBUG[key] = version;\n",
              "            return resolve(paths[lib]);\n",
              "          };\n",
              "          s.onerror = () => reject(`Error loading script: ${paths[lib]}`);\n",
              "          s.src = paths[lib];\n",
              "        });\n",
              "    }\n",
              "\n",
              "    function showError(err) {\n",
              "      outputDiv.innerHTML = `<div class=\"error\" style=\"color:red;\">${err}</div>`;\n",
              "      throw err;\n",
              "    }\n",
              "\n",
              "    function displayChart(vegaEmbed) {\n",
              "      vegaEmbed(outputDiv, spec, embedOpt)\n",
              "        .catch(err => showError(`Javascript Error: ${err.message}<br>This usually means there's a typo in your chart specification. See the javascript console for the full traceback.`));\n",
              "    }\n",
              "\n",
              "    if(typeof define === \"function\" && define.amd) {\n",
              "      requirejs.config({paths});\n",
              "      require([\"vega-embed\"], displayChart, err => showError(`Error loading script: ${err.message}`));\n",
              "    } else {\n",
              "      maybeLoadScript(\"vega\", \"5\")\n",
              "        .then(() => maybeLoadScript(\"vega-lite\", \"4.17.0\"))\n",
              "        .then(() => maybeLoadScript(\"vega-embed\", \"6\"))\n",
              "        .catch(showError)\n",
              "        .then(() => displayChart(vegaEmbed));\n",
              "    }\n",
              "  })({\"config\": {\"view\": {\"continuousWidth\": 400, \"continuousHeight\": 300}, \"title\": {\"anchor\": \"middle\"}}, \"hconcat\": [{\"hconcat\": [{\"data\": {\"name\": \"data-57ac877443578adcd01161806aa20aa4\"}, \"mark\": \"bar\", \"encoding\": {\"x\": {\"field\": \"avg\", \"scale\": {\"domain\": [0, 140]}, \"title\": \"Average count for Summary\", \"type\": \"quantitative\"}, \"y\": {\"field\": \"POS\", \"sort\": \"-x\", \"title\": \"POS\", \"type\": \"ordinal\"}}}, {\"data\": {\"name\": \"data-86c05344aadc199fefccce6259023e5d\"}, \"mark\": \"bar\", \"encoding\": {\"x\": {\"field\": \"avg\", \"scale\": {\"domain\": [0, 140]}, \"title\": \"Average count for Article\", \"type\": \"quantitative\"}, \"y\": {\"field\": \"POS\", \"sort\": \"-x\", \"title\": \"\", \"type\": \"ordinal\"}}}]}], \"title\": \"Distribution of Parts of Speech (POS) for politics\", \"$schema\": \"https://vega.github.io/schema/vega-lite/v4.17.0.json\", \"datasets\": {\"data-57ac877443578adcd01161806aa20aa4\": [{\"POS\": \" 'PROPN'\", \"avg\": 28.32}, {\"POS\": \" 'VERB'\", \"avg\": 32.27}, {\"POS\": \" 'PRON'\", \"avg\": 9.51}, {\"POS\": \" 'AUX'\", \"avg\": 13.48}, {\"POS\": \" 'ADJ'\", \"avg\": 15.25}, {\"POS\": \" 'SCONJ'\", \"avg\": 4.63}, {\"POS\": \" 'DET'\", \"avg\": 24.52}, {\"POS\": \" 'NOUN'\", \"avg\": 41.82}, {\"POS\": \" 'ADP'\", \"avg\": 23.01}, {\"POS\": \" 'CCONJ'\", \"avg\": 6.25}, {\"POS\": \" 'PUNCT'\", \"avg\": 24.49}, {\"POS\": \" 'PART'\", \"avg\": 8.63}, {\"POS\": \" 'ADV'\", \"avg\": 7.94}, {\"POS\": \" 'NUM'\", \"avg\": 2.83}, {\"POS\": \" 'INTJ'\", \"avg\": 0.13}, {\"POS\": \" 'SYM'\", \"avg\": 0.27}, {\"POS\": \" 'X'\", \"avg\": 0.05}, {\"POS\": \" 'SPACE'\", \"avg\": 0.03}], \"data-86c05344aadc199fefccce6259023e5d\": [{\"POS\": \" 'PUNCT'\", \"avg\": 62.47}, {\"POS\": \" 'ADJ'\", \"avg\": 34.14}, {\"POS\": \" 'NOUN'\", \"avg\": 95.95}, {\"POS\": \" 'ADP'\", \"avg\": 52.16}, {\"POS\": \" 'SPACE'\", \"avg\": 6.82}, {\"POS\": \" 'DET'\", \"avg\": 56.76}, {\"POS\": \" 'VERB'\", \"avg\": 71.77}, {\"POS\": \" 'AUX'\", \"avg\": 29.88}, {\"POS\": \" 'PROPN'\", \"avg\": 54.36}, {\"POS\": \" 'CCONJ'\", \"avg\": 14.43}, {\"POS\": \" 'PART'\", \"avg\": 19.58}, {\"POS\": \" 'ADV'\", \"avg\": 18.42}, {\"POS\": \" 'SCONJ'\", \"avg\": 10.42}, {\"POS\": \" 'PRON'\", \"avg\": 25.19}, {\"POS\": \" 'NUM'\", \"avg\": 6.58}, {\"POS\": \" 'INTJ'\", \"avg\": 0.31}, {\"POS\": \" 'SYM'\", \"avg\": 0.64}, {\"POS\": \" 'X'\", \"avg\": 0.06}]}}, {\"mode\": \"vega-lite\"});\n",
              "</script>"
            ],
            "text/plain": [
              "alt.HConcatChart(...)"
            ]
          },
          "metadata": {},
          "execution_count": 18
        }
      ]
    },
    {
      "cell_type": "code",
      "source": [
        "df = pd.DataFrame.from_dict(counts_df['Summaries/-sport-POS averages'][0].items()).rename(columns={0: 'POS', 1: 'avg'})\n",
        "df_2 = pd.DataFrame.from_dict(counts_df['News Articles/-sport-POS averages'][0].items()).rename(columns={0: 'POS', 1: 'avg'})\n",
        "\n",
        "create_comparison_viz(df, df_2, 'sport')"
      ],
      "metadata": {
        "colab": {
          "base_uri": "https://localhost:8080/",
          "height": 442
        },
        "id": "sl9HbVyXphDu",
        "outputId": "55950cfa-bdf9-4e63-db0d-c7f3575c410f"
      },
      "execution_count": 19,
      "outputs": [
        {
          "output_type": "execute_result",
          "data": {
            "text/html": [
              "\n",
              "<div id=\"altair-viz-2678ef60452b4648a8c782c7dfb05942\"></div>\n",
              "<script type=\"text/javascript\">\n",
              "  var VEGA_DEBUG = (typeof VEGA_DEBUG == \"undefined\") ? {} : VEGA_DEBUG;\n",
              "  (function(spec, embedOpt){\n",
              "    let outputDiv = document.currentScript.previousElementSibling;\n",
              "    if (outputDiv.id !== \"altair-viz-2678ef60452b4648a8c782c7dfb05942\") {\n",
              "      outputDiv = document.getElementById(\"altair-viz-2678ef60452b4648a8c782c7dfb05942\");\n",
              "    }\n",
              "    const paths = {\n",
              "      \"vega\": \"https://cdn.jsdelivr.net/npm//vega@5?noext\",\n",
              "      \"vega-lib\": \"https://cdn.jsdelivr.net/npm//vega-lib?noext\",\n",
              "      \"vega-lite\": \"https://cdn.jsdelivr.net/npm//vega-lite@4.17.0?noext\",\n",
              "      \"vega-embed\": \"https://cdn.jsdelivr.net/npm//vega-embed@6?noext\",\n",
              "    };\n",
              "\n",
              "    function maybeLoadScript(lib, version) {\n",
              "      var key = `${lib.replace(\"-\", \"\")}_version`;\n",
              "      return (VEGA_DEBUG[key] == version) ?\n",
              "        Promise.resolve(paths[lib]) :\n",
              "        new Promise(function(resolve, reject) {\n",
              "          var s = document.createElement('script');\n",
              "          document.getElementsByTagName(\"head\")[0].appendChild(s);\n",
              "          s.async = true;\n",
              "          s.onload = () => {\n",
              "            VEGA_DEBUG[key] = version;\n",
              "            return resolve(paths[lib]);\n",
              "          };\n",
              "          s.onerror = () => reject(`Error loading script: ${paths[lib]}`);\n",
              "          s.src = paths[lib];\n",
              "        });\n",
              "    }\n",
              "\n",
              "    function showError(err) {\n",
              "      outputDiv.innerHTML = `<div class=\"error\" style=\"color:red;\">${err}</div>`;\n",
              "      throw err;\n",
              "    }\n",
              "\n",
              "    function displayChart(vegaEmbed) {\n",
              "      vegaEmbed(outputDiv, spec, embedOpt)\n",
              "        .catch(err => showError(`Javascript Error: ${err.message}<br>This usually means there's a typo in your chart specification. See the javascript console for the full traceback.`));\n",
              "    }\n",
              "\n",
              "    if(typeof define === \"function\" && define.amd) {\n",
              "      requirejs.config({paths});\n",
              "      require([\"vega-embed\"], displayChart, err => showError(`Error loading script: ${err.message}`));\n",
              "    } else {\n",
              "      maybeLoadScript(\"vega\", \"5\")\n",
              "        .then(() => maybeLoadScript(\"vega-lite\", \"4.17.0\"))\n",
              "        .then(() => maybeLoadScript(\"vega-embed\", \"6\"))\n",
              "        .catch(showError)\n",
              "        .then(() => displayChart(vegaEmbed));\n",
              "    }\n",
              "  })({\"config\": {\"view\": {\"continuousWidth\": 400, \"continuousHeight\": 300}, \"title\": {\"anchor\": \"middle\"}}, \"hconcat\": [{\"hconcat\": [{\"data\": {\"name\": \"data-2d566ba477fa9a08d7e1b8b12bfe82e6\"}, \"mark\": \"bar\", \"encoding\": {\"x\": {\"field\": \"avg\", \"scale\": {\"domain\": [0, 140]}, \"title\": \"Average count for Summary\", \"type\": \"quantitative\"}, \"y\": {\"field\": \"POS\", \"sort\": \"-x\", \"title\": \"POS\", \"type\": \"ordinal\"}}}, {\"data\": {\"name\": \"data-0af008e087002ab67e0ad684e93f0914\"}, \"mark\": \"bar\", \"encoding\": {\"x\": {\"field\": \"avg\", \"scale\": {\"domain\": [0, 140]}, \"title\": \"Average count for Article\", \"type\": \"quantitative\"}, \"y\": {\"field\": \"POS\", \"sort\": \"-x\", \"title\": \"\", \"type\": \"ordinal\"}}}]}], \"title\": \"Distribution of Parts of Speech (POS) for sport\", \"$schema\": \"https://vega.github.io/schema/vega-lite/v4.17.0.json\", \"datasets\": {\"data-2d566ba477fa9a08d7e1b8b12bfe82e6\": [{\"POS\": \" 'PUNCT'\", \"avg\": 18.8}, {\"POS\": \" 'DET'\", \"avg\": 15.89}, {\"POS\": \" 'NOUN'\", \"avg\": 23.96}, {\"POS\": \" 'VERB'\", \"avg\": 17.85}, {\"POS\": \" 'ADV'\", \"avg\": 5.99}, {\"POS\": \" 'ADP'\", \"avg\": 16.09}, {\"POS\": \" 'PROPN'\", \"avg\": 25.02}, {\"POS\": \" 'CCONJ'\", \"avg\": 4.22}, {\"POS\": \" 'PRON'\", \"avg\": 6.66}, {\"POS\": \" 'ADJ'\", \"avg\": 9.62}, {\"POS\": \" 'AUX'\", \"avg\": 8.71}, {\"POS\": \" 'PART'\", \"avg\": 5.29}, {\"POS\": \" 'SCONJ'\", \"avg\": 2.5}, {\"POS\": \" 'NUM'\", \"avg\": 4.05}, {\"POS\": \" 'SYM'\", \"avg\": 0.49}, {\"POS\": \" 'INTJ'\", \"avg\": 0.08}, {\"POS\": \" 'SPACE'\", \"avg\": 0.13}], \"data-0af008e087002ab67e0ad684e93f0914\": [{\"POS\": \" 'PROPN'\", \"avg\": 46.67}, {\"POS\": \" 'PART'\", \"avg\": 12.12}, {\"POS\": \" 'VERB'\", \"avg\": 41.63}, {\"POS\": \" 'NOUN'\", \"avg\": 52.51}, {\"POS\": \" 'ADP'\", \"avg\": 34.92}, {\"POS\": \" 'SPACE'\", \"avg\": 5.03}, {\"POS\": \" 'AUX'\", \"avg\": 20.47}, {\"POS\": \" 'ADJ'\", \"avg\": 21.48}, {\"POS\": \" 'DET'\", \"avg\": 36.68}, {\"POS\": \" 'PUNCT'\", \"avg\": 46.7}, {\"POS\": \" 'SCONJ'\", \"avg\": 5.39}, {\"POS\": \" 'ADV'\", \"avg\": 14.17}, {\"POS\": \" 'CCONJ'\", \"avg\": 10.23}, {\"POS\": \" 'PRON'\", \"avg\": 21.02}, {\"POS\": \" 'NUM'\", \"avg\": 9.82}, {\"POS\": \" 'SYM'\", \"avg\": 1.68}, {\"POS\": \" 'X'\", \"avg\": 0.03}, {\"POS\": \" 'INTJ'\", \"avg\": 0.11}]}}, {\"mode\": \"vega-lite\"});\n",
              "</script>"
            ],
            "text/plain": [
              "alt.HConcatChart(...)"
            ]
          },
          "metadata": {},
          "execution_count": 19
        }
      ]
    },
    {
      "cell_type": "code",
      "source": [
        "df = pd.DataFrame.from_dict(counts_df['Summaries/-tech-POS averages'][0].items()).rename(columns={0: 'POS', 1: 'avg'})\n",
        "df_2 = pd.DataFrame.from_dict(counts_df['News Articles/-tech-POS averages'][0].items()).rename(columns={0: 'POS', 1: 'avg'})\n",
        "\n",
        "create_comparison_viz(df, df_2, 'tech')"
      ],
      "metadata": {
        "colab": {
          "base_uri": "https://localhost:8080/",
          "height": 442
        },
        "id": "k6rcIjoOpnzh",
        "outputId": "e0b7ef19-d2fb-480c-89c5-467c0eabe35c"
      },
      "execution_count": 20,
      "outputs": [
        {
          "output_type": "execute_result",
          "data": {
            "text/html": [
              "\n",
              "<div id=\"altair-viz-2e3742c8b9c3448292d3364d2810f2a8\"></div>\n",
              "<script type=\"text/javascript\">\n",
              "  var VEGA_DEBUG = (typeof VEGA_DEBUG == \"undefined\") ? {} : VEGA_DEBUG;\n",
              "  (function(spec, embedOpt){\n",
              "    let outputDiv = document.currentScript.previousElementSibling;\n",
              "    if (outputDiv.id !== \"altair-viz-2e3742c8b9c3448292d3364d2810f2a8\") {\n",
              "      outputDiv = document.getElementById(\"altair-viz-2e3742c8b9c3448292d3364d2810f2a8\");\n",
              "    }\n",
              "    const paths = {\n",
              "      \"vega\": \"https://cdn.jsdelivr.net/npm//vega@5?noext\",\n",
              "      \"vega-lib\": \"https://cdn.jsdelivr.net/npm//vega-lib?noext\",\n",
              "      \"vega-lite\": \"https://cdn.jsdelivr.net/npm//vega-lite@4.17.0?noext\",\n",
              "      \"vega-embed\": \"https://cdn.jsdelivr.net/npm//vega-embed@6?noext\",\n",
              "    };\n",
              "\n",
              "    function maybeLoadScript(lib, version) {\n",
              "      var key = `${lib.replace(\"-\", \"\")}_version`;\n",
              "      return (VEGA_DEBUG[key] == version) ?\n",
              "        Promise.resolve(paths[lib]) :\n",
              "        new Promise(function(resolve, reject) {\n",
              "          var s = document.createElement('script');\n",
              "          document.getElementsByTagName(\"head\")[0].appendChild(s);\n",
              "          s.async = true;\n",
              "          s.onload = () => {\n",
              "            VEGA_DEBUG[key] = version;\n",
              "            return resolve(paths[lib]);\n",
              "          };\n",
              "          s.onerror = () => reject(`Error loading script: ${paths[lib]}`);\n",
              "          s.src = paths[lib];\n",
              "        });\n",
              "    }\n",
              "\n",
              "    function showError(err) {\n",
              "      outputDiv.innerHTML = `<div class=\"error\" style=\"color:red;\">${err}</div>`;\n",
              "      throw err;\n",
              "    }\n",
              "\n",
              "    function displayChart(vegaEmbed) {\n",
              "      vegaEmbed(outputDiv, spec, embedOpt)\n",
              "        .catch(err => showError(`Javascript Error: ${err.message}<br>This usually means there's a typo in your chart specification. See the javascript console for the full traceback.`));\n",
              "    }\n",
              "\n",
              "    if(typeof define === \"function\" && define.amd) {\n",
              "      requirejs.config({paths});\n",
              "      require([\"vega-embed\"], displayChart, err => showError(`Error loading script: ${err.message}`));\n",
              "    } else {\n",
              "      maybeLoadScript(\"vega\", \"5\")\n",
              "        .then(() => maybeLoadScript(\"vega-lite\", \"4.17.0\"))\n",
              "        .then(() => maybeLoadScript(\"vega-embed\", \"6\"))\n",
              "        .catch(showError)\n",
              "        .then(() => displayChart(vegaEmbed));\n",
              "    }\n",
              "  })({\"config\": {\"view\": {\"continuousWidth\": 400, \"continuousHeight\": 300}, \"title\": {\"anchor\": \"middle\"}}, \"hconcat\": [{\"hconcat\": [{\"data\": {\"name\": \"data-d11365bedc3e56692c40b743254b18e3\"}, \"mark\": \"bar\", \"encoding\": {\"x\": {\"field\": \"avg\", \"scale\": {\"domain\": [0, 140]}, \"title\": \"Average count for Summary\", \"type\": \"quantitative\"}, \"y\": {\"field\": \"POS\", \"sort\": \"-x\", \"title\": \"POS\", \"type\": \"ordinal\"}}}, {\"data\": {\"name\": \"data-5acf2ac85f64f244d9ab110e78ca9630\"}, \"mark\": \"bar\", \"encoding\": {\"x\": {\"field\": \"avg\", \"scale\": {\"domain\": [0, 140]}, \"title\": \"Average count for Article\", \"type\": \"quantitative\"}, \"y\": {\"field\": \"POS\", \"sort\": \"-x\", \"title\": \"\", \"type\": \"ordinal\"}}}]}], \"title\": \"Distribution of Parts of Speech (POS) for tech\", \"$schema\": \"https://vega.github.io/schema/vega-lite/v4.17.0.json\", \"datasets\": {\"data-d11365bedc3e56692c40b743254b18e3\": [{\"POS\": \" 'PROPN'\", \"avg\": 22.52}, {\"POS\": \" 'VERB'\", \"avg\": 33.56}, {\"POS\": \" 'DET'\", \"avg\": 26.37}, {\"POS\": \" 'NOUN'\", \"avg\": 56.65}, {\"POS\": \" 'AUX'\", \"avg\": 13.13}, {\"POS\": \" 'ADV'\", \"avg\": 9.13}, {\"POS\": \" 'ADJ'\", \"avg\": 18.33}, {\"POS\": \" 'SCONJ'\", \"avg\": 5.66}, {\"POS\": \" 'PUNCT'\", \"avg\": 27.23}, {\"POS\": \" 'NUM'\", \"avg\": 5.43}, {\"POS\": \" 'ADP'\", \"avg\": 25.03}, {\"POS\": \" 'PART'\", \"avg\": 7.49}, {\"POS\": \" 'CCONJ'\", \"avg\": 7.38}, {\"POS\": \" 'PRON'\", \"avg\": 7.1}, {\"POS\": \" 'SYM'\", \"avg\": 0.42}, {\"POS\": \" 'SPACE'\", \"avg\": 0.04}, {\"POS\": \" 'X'\", \"avg\": 0.03}, {\"POS\": \" 'INTJ'\", \"avg\": 0.06}], \"data-5acf2ac85f64f244d9ab110e78ca9630\": [{\"POS\": \" 'PROPN'\", \"avg\": 43.39}, {\"POS\": \" 'PART'\", \"avg\": 16.85}, {\"POS\": \" 'VERB'\", \"avg\": 75.63}, {\"POS\": \" 'ADP'\", \"avg\": 57.64}, {\"POS\": \" 'NOUN'\", \"avg\": 127.73}, {\"POS\": \" 'CCONJ'\", \"avg\": 17.13}, {\"POS\": \" 'SPACE'\", \"avg\": 6.48}, {\"POS\": \" 'PUNCT'\", \"avg\": 69.24}, {\"POS\": \" 'PRON'\", \"avg\": 19.93}, {\"POS\": \" 'DET'\", \"avg\": 60.68}, {\"POS\": \" 'ADJ'\", \"avg\": 43.38}, {\"POS\": \" 'SCONJ'\", \"avg\": 12.34}, {\"POS\": \" 'ADV'\", \"avg\": 23.02}, {\"POS\": \" 'AUX'\", \"avg\": 31.04}, {\"POS\": \" 'SYM'\", \"avg\": 0.92}, {\"POS\": \" 'NUM'\", \"avg\": 12.15}, {\"POS\": \" 'X'\", \"avg\": 0.05}, {\"POS\": \" 'INTJ'\", \"avg\": 0.07}]}}, {\"mode\": \"vega-lite\"});\n",
              "</script>"
            ],
            "text/plain": [
              "alt.HConcatChart(...)"
            ]
          },
          "metadata": {},
          "execution_count": 20
        }
      ]
    },
    {
      "cell_type": "markdown",
      "source": [
        "# **Compare each category of summary to seeif there are any major differences**"
      ],
      "metadata": {
        "id": "VIws7ohBksia"
      }
    },
    {
      "cell_type": "code",
      "source": [
        "df = pd.DataFrame.from_dict(counts_df['Summaries/-tech-POS averages'][0].items())\n",
        "df2 = pd.DataFrame.from_dict(counts_df['Summaries/-sport-POS averages'][0].items())\n",
        "df2.loc[len(df.index)] = ['X', 0.0]\n",
        "df3 = pd.DataFrame.from_dict(counts_df['Summaries/-politics-POS averages'][0].items())\n",
        "df4 = pd.DataFrame.from_dict(counts_df['Summaries/-entertainment-POS averages'][0].items())\n",
        "df5 = pd.DataFrame.from_dict(counts_df['Summaries/-business-POS averages'][0].items())\n",
        "\n",
        "\n",
        "def get_highest(lst):\n",
        "  best = 0\n",
        "  for d in lst:\n",
        "    curr = int(math.ceil(d[1].max() / 10.0) * 10)\n",
        "    if curr>best:\n",
        "      best = curr\n",
        "  return best\n",
        "\n",
        "def compare_5(df, df2, df3, df4, df5):\n",
        "  #get the upper limit and round up to the nearest 10\n",
        "  upper_limit = get_highest([df, df2, df3, df4, df5])\n",
        "\n",
        "\n",
        "  chart1 = alt.Chart(df).mark_bar().encode(\n",
        "      x=alt.X('1:Q', title='Average count for Tech', scale=alt.Scale(domain=[0, upper_limit])),\n",
        "      y=alt.Y(\"0:O\", title = 'POS', sort='y')\n",
        "  )\n",
        "\n",
        "  chart2 = alt.Chart(df2).mark_bar().encode(\n",
        "      x=alt.X('1:Q', title='Average count for Sports', scale=alt.Scale(domain=[0, upper_limit])),\n",
        "      y=alt.Y(\"0:O\", title='', sort='y')\n",
        "  )\n",
        "\n",
        "  chart3 = alt.Chart(df3).mark_bar().encode(\n",
        "      x=alt.X('1:Q', title='Average count for Politics', scale=alt.Scale(domain=[0, upper_limit])),\n",
        "       y=alt.Y(\"0:O\", title='', sort='y')\n",
        "  )\n",
        "\n",
        "  chart4 = alt.Chart(df4).mark_bar().encode(\n",
        "      x=alt.X('1:Q', title='Average count for Entertainment', scale=alt.Scale(domain=[0, upper_limit])),\n",
        "      y=alt.Y(\"0:O\", title='', sort='y')\n",
        "  )\n",
        "\n",
        "  chart5 = alt.Chart(df5).mark_bar().encode(\n",
        "      x=alt.X('1:Q', title='Average count for Business', scale=alt.Scale(domain=[0, upper_limit])),\n",
        "      y=alt.Y(\"0:O\", title='', sort='y')\n",
        "  )\n",
        "\n",
        "  return chart1 | chart2 | chart3 | chart4 | chart5\n",
        "\n",
        "compare_5(df, df2, df3, df4, df5)"
      ],
      "metadata": {
        "id": "JmYgESl0n0ai",
        "colab": {
          "base_uri": "https://localhost:8080/",
          "height": 445
        },
        "outputId": "8860fa23-69b0-4e2f-cc8d-717f96133399"
      },
      "execution_count": 32,
      "outputs": [
        {
          "output_type": "execute_result",
          "data": {
            "text/html": [
              "\n",
              "<div id=\"altair-viz-03078aeba424498687915cbf1f0ce0b1\"></div>\n",
              "<script type=\"text/javascript\">\n",
              "  var VEGA_DEBUG = (typeof VEGA_DEBUG == \"undefined\") ? {} : VEGA_DEBUG;\n",
              "  (function(spec, embedOpt){\n",
              "    let outputDiv = document.currentScript.previousElementSibling;\n",
              "    if (outputDiv.id !== \"altair-viz-03078aeba424498687915cbf1f0ce0b1\") {\n",
              "      outputDiv = document.getElementById(\"altair-viz-03078aeba424498687915cbf1f0ce0b1\");\n",
              "    }\n",
              "    const paths = {\n",
              "      \"vega\": \"https://cdn.jsdelivr.net/npm//vega@5?noext\",\n",
              "      \"vega-lib\": \"https://cdn.jsdelivr.net/npm//vega-lib?noext\",\n",
              "      \"vega-lite\": \"https://cdn.jsdelivr.net/npm//vega-lite@4.17.0?noext\",\n",
              "      \"vega-embed\": \"https://cdn.jsdelivr.net/npm//vega-embed@6?noext\",\n",
              "    };\n",
              "\n",
              "    function maybeLoadScript(lib, version) {\n",
              "      var key = `${lib.replace(\"-\", \"\")}_version`;\n",
              "      return (VEGA_DEBUG[key] == version) ?\n",
              "        Promise.resolve(paths[lib]) :\n",
              "        new Promise(function(resolve, reject) {\n",
              "          var s = document.createElement('script');\n",
              "          document.getElementsByTagName(\"head\")[0].appendChild(s);\n",
              "          s.async = true;\n",
              "          s.onload = () => {\n",
              "            VEGA_DEBUG[key] = version;\n",
              "            return resolve(paths[lib]);\n",
              "          };\n",
              "          s.onerror = () => reject(`Error loading script: ${paths[lib]}`);\n",
              "          s.src = paths[lib];\n",
              "        });\n",
              "    }\n",
              "\n",
              "    function showError(err) {\n",
              "      outputDiv.innerHTML = `<div class=\"error\" style=\"color:red;\">${err}</div>`;\n",
              "      throw err;\n",
              "    }\n",
              "\n",
              "    function displayChart(vegaEmbed) {\n",
              "      vegaEmbed(outputDiv, spec, embedOpt)\n",
              "        .catch(err => showError(`Javascript Error: ${err.message}<br>This usually means there's a typo in your chart specification. See the javascript console for the full traceback.`));\n",
              "    }\n",
              "\n",
              "    if(typeof define === \"function\" && define.amd) {\n",
              "      requirejs.config({paths});\n",
              "      require([\"vega-embed\"], displayChart, err => showError(`Error loading script: ${err.message}`));\n",
              "    } else {\n",
              "      maybeLoadScript(\"vega\", \"5\")\n",
              "        .then(() => maybeLoadScript(\"vega-lite\", \"4.17.0\"))\n",
              "        .then(() => maybeLoadScript(\"vega-embed\", \"6\"))\n",
              "        .catch(showError)\n",
              "        .then(() => displayChart(vegaEmbed));\n",
              "    }\n",
              "  })({\"config\": {\"view\": {\"continuousWidth\": 400, \"continuousHeight\": 300}}, \"hconcat\": [{\"data\": {\"name\": \"data-a10548651f3e7ac33533b3b3dbdc708d\"}, \"mark\": \"bar\", \"encoding\": {\"x\": {\"field\": \"1\", \"scale\": {\"domain\": [0, 60]}, \"title\": \"Average count for Tech\", \"type\": \"quantitative\"}, \"y\": {\"field\": \"0\", \"sort\": \"y\", \"title\": \"POS\", \"type\": \"ordinal\"}}}, {\"data\": {\"name\": \"data-9f2dcd584df0d76de1734d7e6415c967\"}, \"mark\": \"bar\", \"encoding\": {\"x\": {\"field\": \"1\", \"scale\": {\"domain\": [0, 60]}, \"title\": \"Average count for Sports\", \"type\": \"quantitative\"}, \"y\": {\"field\": \"0\", \"sort\": \"y\", \"title\": \"\", \"type\": \"ordinal\"}}}, {\"data\": {\"name\": \"data-e98278d99adf50fbfa4e659cccb72507\"}, \"mark\": \"bar\", \"encoding\": {\"x\": {\"field\": \"1\", \"scale\": {\"domain\": [0, 60]}, \"title\": \"Average count for Politics\", \"type\": \"quantitative\"}, \"y\": {\"field\": \"0\", \"sort\": \"y\", \"title\": \"\", \"type\": \"ordinal\"}}}, {\"data\": {\"name\": \"data-419a9c69f28bc88c85e4eebdbd306af7\"}, \"mark\": \"bar\", \"encoding\": {\"x\": {\"field\": \"1\", \"scale\": {\"domain\": [0, 60]}, \"title\": \"Average count for Entertainment\", \"type\": \"quantitative\"}, \"y\": {\"field\": \"0\", \"sort\": \"y\", \"title\": \"\", \"type\": \"ordinal\"}}}, {\"data\": {\"name\": \"data-56306cf03034244ea6d5ef228369b74b\"}, \"mark\": \"bar\", \"encoding\": {\"x\": {\"field\": \"1\", \"scale\": {\"domain\": [0, 60]}, \"title\": \"Average count for Business\", \"type\": \"quantitative\"}, \"y\": {\"field\": \"0\", \"sort\": \"y\", \"title\": \"\", \"type\": \"ordinal\"}}}], \"$schema\": \"https://vega.github.io/schema/vega-lite/v4.17.0.json\", \"datasets\": {\"data-a10548651f3e7ac33533b3b3dbdc708d\": [{\"0\": \" 'PROPN'\", \"1\": 22.52}, {\"0\": \" 'VERB'\", \"1\": 33.56}, {\"0\": \" 'DET'\", \"1\": 26.37}, {\"0\": \" 'NOUN'\", \"1\": 56.65}, {\"0\": \" 'AUX'\", \"1\": 13.13}, {\"0\": \" 'ADV'\", \"1\": 9.13}, {\"0\": \" 'ADJ'\", \"1\": 18.33}, {\"0\": \" 'SCONJ'\", \"1\": 5.66}, {\"0\": \" 'PUNCT'\", \"1\": 27.23}, {\"0\": \" 'NUM'\", \"1\": 5.43}, {\"0\": \" 'ADP'\", \"1\": 25.03}, {\"0\": \" 'PART'\", \"1\": 7.49}, {\"0\": \" 'CCONJ'\", \"1\": 7.38}, {\"0\": \" 'PRON'\", \"1\": 7.1}, {\"0\": \" 'SYM'\", \"1\": 0.42}, {\"0\": \" 'SPACE'\", \"1\": 0.04}, {\"0\": \" 'X'\", \"1\": 0.03}, {\"0\": \" 'INTJ'\", \"1\": 0.06}], \"data-9f2dcd584df0d76de1734d7e6415c967\": [{\"0\": \" 'PUNCT'\", \"1\": 18.8}, {\"0\": \" 'DET'\", \"1\": 15.89}, {\"0\": \" 'NOUN'\", \"1\": 23.96}, {\"0\": \" 'VERB'\", \"1\": 17.85}, {\"0\": \" 'ADV'\", \"1\": 5.99}, {\"0\": \" 'ADP'\", \"1\": 16.09}, {\"0\": \" 'PROPN'\", \"1\": 25.02}, {\"0\": \" 'CCONJ'\", \"1\": 4.22}, {\"0\": \" 'PRON'\", \"1\": 6.66}, {\"0\": \" 'ADJ'\", \"1\": 9.62}, {\"0\": \" 'AUX'\", \"1\": 8.71}, {\"0\": \" 'PART'\", \"1\": 5.29}, {\"0\": \" 'SCONJ'\", \"1\": 2.5}, {\"0\": \" 'NUM'\", \"1\": 4.05}, {\"0\": \" 'SYM'\", \"1\": 0.49}, {\"0\": \" 'INTJ'\", \"1\": 0.08}, {\"0\": \" 'SPACE'\", \"1\": 0.13}, {\"0\": \"X\", \"1\": 0.0}], \"data-e98278d99adf50fbfa4e659cccb72507\": [{\"0\": \" 'PROPN'\", \"1\": 28.32}, {\"0\": \" 'VERB'\", \"1\": 32.27}, {\"0\": \" 'PRON'\", \"1\": 9.51}, {\"0\": \" 'AUX'\", \"1\": 13.48}, {\"0\": \" 'ADJ'\", \"1\": 15.25}, {\"0\": \" 'SCONJ'\", \"1\": 4.63}, {\"0\": \" 'DET'\", \"1\": 24.52}, {\"0\": \" 'NOUN'\", \"1\": 41.82}, {\"0\": \" 'ADP'\", \"1\": 23.01}, {\"0\": \" 'CCONJ'\", \"1\": 6.25}, {\"0\": \" 'PUNCT'\", \"1\": 24.49}, {\"0\": \" 'PART'\", \"1\": 8.63}, {\"0\": \" 'ADV'\", \"1\": 7.94}, {\"0\": \" 'NUM'\", \"1\": 2.83}, {\"0\": \" 'INTJ'\", \"1\": 0.13}, {\"0\": \" 'SYM'\", \"1\": 0.27}, {\"0\": \" 'X'\", \"1\": 0.05}, {\"0\": \" 'SPACE'\", \"1\": 0.03}], \"data-419a9c69f28bc88c85e4eebdbd306af7\": [{\"0\": \" 'DET'\", \"1\": 15.71}, {\"0\": \" 'NOUN'\", \"1\": 27.15}, {\"0\": \" 'VERB'\", \"1\": 15.7}, {\"0\": \" 'ADP'\", \"1\": 16.02}, {\"0\": \" 'PUNCT'\", \"1\": 16.11}, {\"0\": \" 'PROPN'\", \"1\": 23.38}, {\"0\": \" 'AUX'\", \"1\": 7.05}, {\"0\": \" 'ADJ'\", \"1\": 8.98}, {\"0\": \" 'ADV'\", \"1\": 4.15}, {\"0\": \" 'PART'\", \"1\": 4.24}, {\"0\": \" 'CCONJ'\", \"1\": 3.49}, {\"0\": \" 'PRON'\", \"1\": 3.65}, {\"0\": \" 'NUM'\", \"1\": 4.13}, {\"0\": \" 'SCONJ'\", \"1\": 1.95}, {\"0\": \" 'SYM'\", \"1\": 0.39}, {\"0\": \" 'X'\", \"1\": 0.02}, {\"0\": \" 'INTJ'\", \"1\": 0.02}], \"data-56306cf03034244ea6d5ef228369b74b\": [{\"0\": \" 'ADJ'\", \"1\": 10.32}, {\"0\": \" 'NOUN'\", \"1\": 33.08}, {\"0\": \" 'PROPN'\", \"1\": 18.01}, {\"0\": \" 'VERB'\", \"1\": 18.7}, {\"0\": \" 'SCONJ'\", \"1\": 2.94}, {\"0\": \" 'AUX'\", \"1\": 6.87}, {\"0\": \" 'PUNCT'\", \"1\": 17.22}, {\"0\": \" 'ADP'\", \"1\": 16.26}, {\"0\": \" 'ADV'\", \"1\": 3.88}, {\"0\": \" 'PRON'\", \"1\": 2.19}, {\"0\": \" 'DET'\", \"1\": 15.68}, {\"0\": \" 'PART'\", \"1\": 5.39}, {\"0\": \" 'CCONJ'\", \"1\": 3.21}, {\"0\": \" 'NUM'\", \"1\": 5.1}, {\"0\": \" 'SYM'\", \"1\": 1.17}, {\"0\": \" 'X'\", \"1\": 0.01}, {\"0\": \" 'INTJ'\", \"1\": 0.01}, {\"0\": \" 'SPACE'\", \"1\": 0.01}]}}, {\"mode\": \"vega-lite\"});\n",
              "</script>"
            ],
            "text/plain": [
              "alt.HConcatChart(...)"
            ]
          },
          "metadata": {},
          "execution_count": 32
        }
      ]
    },
    {
      "cell_type": "code",
      "source": [
        "\n",
        "#after, average them for each category and test plot on histogram to see if there is a difference (for both Summaries & articles)\n",
        "#finally, look at distribution compared against same category for articles & Summaries\n",
        "\n",
        "\n"
      ],
      "metadata": {
        "id": "v1LOZq6XkBZa"
      },
      "execution_count": null,
      "outputs": []
    }
  ]
}